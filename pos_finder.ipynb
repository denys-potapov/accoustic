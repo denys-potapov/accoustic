{
 "cells": [
  {
   "cell_type": "code",
   "execution_count": 1,
   "id": "4e82d833",
   "metadata": {},
   "outputs": [],
   "source": [
    "%matplotlib inline\n",
    "import pandas as pd\n",
    "import numpy as np\n",
    "import matplotlib.pyplot as plt\n",
    "from scipy.io import wavfile\n",
    "import IPython.display as ipd"
   ]
  },
  {
   "cell_type": "markdown",
   "id": "f7ec2292",
   "metadata": {},
   "source": [
    "В нас є якісь мікрофони, і джерело звуку. Хай перший мікрофон завжди в початку координат."
   ]
  },
  {
   "cell_type": "code",
   "execution_count": 2,
   "id": "ca4e6fb8",
   "metadata": {},
   "outputs": [],
   "source": [
    "# (x, y) m\n",
    "MIC_POSITIONS = [\n",
    "    (0, 0),\n",
    "    (100, 0),\n",
    "    (0, 100),\n",
    "    (100, 100),\n",
    "    (100, 500)\n",
    "]\n",
    "SOUND_POSITION = (2000, 1000)"
   ]
  },
  {
   "cell_type": "markdown",
   "id": "0d3e4b05",
   "metadata": {},
   "source": [
    "Розраховуємо відстань від джерела звуку до мікрофонів (м)"
   ]
  },
  {
   "cell_type": "code",
   "execution_count": 3,
   "id": "f3cf2cbd",
   "metadata": {},
   "outputs": [
    {
     "name": "stdout",
     "output_type": "stream",
     "text": [
      "[2236.06797749979, 2147.091055358389, 2193.171219946131, 2102.379604162864, 1964.68827043885]\n"
     ]
    }
   ],
   "source": [
    "from scipy.spatial import distance\n",
    "\n",
    "distances = [distance.euclidean(mic, SOUND_POSITION) for mic in MIC_POSITIONS]\n",
    "print(distances)"
   ]
  },
  {
   "cell_type": "markdown",
   "id": "f3f41dbd",
   "metadata": {},
   "source": [
    "Та час прильоту звуку (Time of Arrival, c)"
   ]
  },
  {
   "cell_type": "code",
   "execution_count": 4,
   "id": "a316bb3e",
   "metadata": {},
   "outputs": [
    {
     "name": "stdout",
     "output_type": "stream",
     "text": [
      "[6.51914862 6.25974069 6.39408519 6.1293866  5.72795414]\n"
     ]
    }
   ],
   "source": [
    "SPEED_OF_SOUND = 343  # m/s\n",
    "time_of_arrival = np.array([distance / SPEED_OF_SOUND for distance in distances])\n",
    "print(time_of_arrival)"
   ]
  },
  {
   "cell_type": "markdown",
   "id": "5c53f623",
   "metadata": {},
   "source": [
    "Але в нас не буде абсолютного часу, а буде тільки різниця. Тому навмання беремо 0 мікрофон — як базовий. І розраховуємо різницю часу прильоту (time difference of arrival, tdoa, c). Додаємо випадковий шум."
   ]
  },
  {
   "cell_type": "code",
   "execution_count": 12,
   "id": "c6d6a136",
   "metadata": {},
   "outputs": [
    {
     "name": "stdout",
     "output_type": "stream",
     "text": [
      "clean [ 0.         -0.25940794 -0.12506343 -0.38976202 -0.79119448]\n",
      "noisy [ 0.         -0.25936759 -0.12882544 -0.39356018 -0.79334563]\n"
     ]
    }
   ],
   "source": [
    "NOISE = np.random.normal(0, 0.001, len(MIC_POSITIONS))\n",
    "\n",
    "tdoa = np.array([time - time_of_arrival[0] for time in time_of_arrival])\n",
    "print('clean', tdoa)\n",
    "\n",
    "toa_noisy = time_of_arrival + NOISE\n",
    "tdoa_noisy = np.array([time - toa_noisy[0] for time in toa_noisy])\n",
    "print('noisy', tdoa_noisy)"
   ]
  },
  {
   "cell_type": "markdown",
   "id": "42030538",
   "metadata": {},
   "source": [
    "# Пішли матриці\n",
    "\n",
    "Цю формулу я зкопіював, вона пов'язує координати 2 мікрофонів, з джерелом звуку (лінійно)\n",
    "\n",
    "$$ (\\frac{2 x_m}{v_s\\tau_m}-\\frac{2 x_1}{v_s\\tau_1})x + (\\frac{2 y_m}{v_s\\tau_m}-\\frac{2 y_1}{v_s\\tau_1})y = (\\frac{{x_m}^2 + {y_m}^2}{v_s\\tau_m} - \\frac{{x_1}^2 + {y_1}^2}{v_s\\tau_1}) - (v_s\\tau_m - v_s\\tau_1)$$\n"
   ]
  },
  {
   "cell_type": "code",
   "execution_count": 13,
   "id": "fdc36844",
   "metadata": {},
   "outputs": [],
   "source": [
    "def coefs(pos_m, t_m, pos_1, t_1):\n",
    "    (x_m, y_m) = pos_m\n",
    "    (x_1, y_1) = pos_1\n",
    "    v = SPEED_OF_SOUND\n",
    "    a = (2 * x_m) / (v * t_m) - (2 * x_1) / (v * t_1)\n",
    "    b = (2 * y_m) / (v * t_m) - (2 * y_1) / (v * t_1)\n",
    "    c = (x_m ** 2 + y_m ** 2) / (v * t_m) - (x_1 ** 2 + y_1 ** 2) / (v * t_1) - (v * t_m - v * t_1)\n",
    "\n",
    "    return a, b, c"
   ]
  },
  {
   "cell_type": "markdown",
   "id": "5b2fcb32",
   "metadata": {},
   "source": [
    "Будуємо систему рівнянь і вирішуємо її"
   ]
  },
  {
   "cell_type": "code",
   "execution_count": 14,
   "id": "2a83a84f",
   "metadata": {},
   "outputs": [
    {
     "name": "stdout",
     "output_type": "stream",
     "text": [
      "[1999.9999999999789, 999.999999999994]\n",
      "[1713.1888763489703, 885.2135198266685]\n"
     ]
    }
   ],
   "source": [
    "def solve(tdoa):\n",
    "    M = np.array([coefs(MIC_POSITIONS[m], tdoa[m], MIC_POSITIONS[1], tdoa[1]) for m in range(2, len(MIC_POSITIONS))])\n",
    "    \n",
    "    a = M[: , [0,1]]  # first two columns\n",
    "    b = M[: , [2]]    # last column\n",
    "    return list(np.linalg.lstsq(a, b, rcond=None)[0].flat)\n",
    "\n",
    "clean_xy = solve(tdoa)\n",
    "print(clean_xy)\n",
    "\n",
    "noisy_xy = solve(tdoa_noisy)\n",
    "print(noisy_xy)"
   ]
  },
  {
   "cell_type": "markdown",
   "id": "8fd1734c",
   "metadata": {},
   "source": [
    "Малюємо\n",
    "- мікрофони зелені\n",
    "- джерело звуку зелений кружечок\n",
    "- результат без шуму - синій хрестик\n",
    "- результат з шумом - червоний хрестик"
   ]
  },
  {
   "cell_type": "code",
   "execution_count": 15,
   "id": "52c1c737",
   "metadata": {},
   "outputs": [
    {
     "data": {
      "image/png": "[encoded data removed]",
      "text/plain": [
       "<Figure size 1000x500 with 1 Axes>"
      ]
     },
     "metadata": {},
     "output_type": "display_data"
    }
   ],
   "source": [
    "plt.figure(figsize=(10, 5))\n",
    "\n",
    "# show mics\n",
    "for x, y in MIC_POSITIONS:\n",
    "    plt.plot(x, y, marker=\"x\", color=\"green\")\n",
    "\n",
    "# show sound\n",
    "plt.plot(SOUND_POSITION[0], SOUND_POSITION[1], marker=\"o\", color=\"green\")\n",
    "plt.plot(clean_xy[0], clean_xy[1], marker=\"+\", color=\"blue\")\n",
    "plt.plot(noisy_xy[0], noisy_xy[1], marker=\"+\", color=\"red\")\n",
    "\n",
    "plt.axis('square')\n",
    "plt.show()"
   ]
  },
  {
   "cell_type": "code",
   "execution_count": null,
   "id": "0b7e8830",
   "metadata": {},
   "outputs": [],
   "source": []
  }
 ],
 "metadata": {
  "kernelspec": {
   "display_name": "Python 3 (ipykernel)",
   "language": "python",
   "name": "python3"
  },
  "language_info": {
   "codemirror_mode": {
    "name": "ipython",
    "version": 3
   },
   "file_extension": ".py",
   "mimetype": "text/x-python",
   "name": "python",
   "nbconvert_exporter": "python",
   "pygments_lexer": "ipython3",
   "version": "3.10.6"
  }
 },
 "nbformat": 4,
 "nbformat_minor": 5
}
